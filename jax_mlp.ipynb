{
  "nbformat": 4,
  "nbformat_minor": 0,
  "metadata": {
    "colab": {
      "provenance": []
    },
    "kernelspec": {
      "name": "python3",
      "display_name": "Python 3"
    },
    "language_info": {
      "name": "python"
    }
  },
  "cells": [
    {
      "cell_type": "code",
      "execution_count": 117,
      "metadata": {
        "id": "agYb3dYvlACL"
      },
      "outputs": [],
      "source": [
        "import jax\n",
        "import flax\n",
        "import jax.numpy as jnp\n",
        "import numpy as np\n",
        "import optax\n",
        "from jax import grad, jit, vmap, pmap\n",
        "\n",
        "from jax import random\n",
        "from copy import deepcopy\n",
        "from typing import Tuple, NamedTuple\n",
        "import functools\n",
        "import typing\n",
        "import copy\n",
        "import matplotlib.pyplot as plt\n",
        "\n",
        "from torchvision.datasets import MNIST\n",
        "from torch.utils.data import DataLoader"
      ]
    },
    {
      "cell_type": "code",
      "source": [
        "seed = 0\n",
        "def init_mlp(layer_width, key):\n",
        "  params = []\n",
        "  keys = jax.random.split(key, num=len(layer_width)-1)\n",
        "  for input, out, this_key in zip(layer_width[:-1], layer_width[1:], keys):\n",
        "    weight_key, bias_key = jax.random.split(this_key)\n",
        "    params.append([jax.random.normal(weight_key, shape=(out, input)) * 0.01, jax.random.normal(bias_key,shape=(out,)) * 0.01])\n",
        "  return params\n",
        "\n",
        "key = jax.random.PRNGKey(seed)\n",
        "mlp_param = init_mlp([784, 512, 256, 10], key)\n",
        "print(jax.tree.map(lambda x: print(x), param[-1]))"
      ],
      "metadata": {
        "id": "Zfnem5TpYtwW"
      },
      "execution_count": null,
      "outputs": []
    },
    {
      "cell_type": "code",
      "source": [
        "def mlp_predict(params, x):\n",
        "  hidden_layers = params[:-1]\n",
        "  activation = x;\n",
        "  for w, b in hidden_layers:\n",
        "    activation = jnp.dot(w, activation) + b\n",
        "    activation = jax.nn.relu(activation)\n",
        "  w, b = params[-1]\n",
        "  # return the logits (logits is unnomalized log probaility)\n",
        "  logits = jnp.dot(w, activation) + b\n",
        "  return logits\n",
        "\n",
        "batched_mlp_predict = jax.vmap(mlp_predict, in_axes=(None, 0))\n",
        "\n",
        "mnist_img_size = (28,28)\n",
        "dummy_imgs_flat = np.random.randn(16, np.prod(mnist_img_size))\n",
        "# print(dummy_imgs_flat.shape)\n",
        "predictions = batched_mlp_predict(mlp_param, dummy_imgs_flat)"
      ],
      "metadata": {
        "id": "SVYUNscQYs1U"
      },
      "execution_count": null,
      "outputs": []
    },
    {
      "cell_type": "code",
      "source": [
        "train_dataset = MNIST(root='.', train=True, download=True, transform=lambda x: np.ravel(np.array(x, dtype=np.float32)))\n",
        "test_dataset = MNIST(root='.', train=False, download=True, transform=lambda x: np.ravel(np.array(x, dtype=np.float32)))\n",
        "batch_size = 256\n",
        "\n",
        "def custom_collate_fn(batch):\n",
        "\n",
        "    # >>> s1 = {2, 3, 1}\n",
        "    # >>> s2 = {'b', 'a', 'c'}\n",
        "    # >>> list(zip(s1, s2))\n",
        "    # [(1, 'a'), (2, 'c'), (3, 'b')]\n",
        "    # * upacking operator\n",
        "    transposed_data = list(zip(*batch))\n",
        "\n",
        "    labels = np.array(transposed_data[1])\n",
        "    imgs = np.stack(transposed_data[0])\n",
        "    return imgs, labels\n",
        "\n",
        "train_loader = DataLoader(train_dataset, batch_size, shuffle=True, collate_fn=custom_collate_fn, drop_last=True)\n",
        "test_loader = DataLoader(test_dataset, batch_size, shuffle=False, collate_fn=custom_collate_fn, drop_last=True)"
      ],
      "metadata": {
        "id": "HRWutn3cYtGk"
      },
      "execution_count": 112,
      "outputs": []
    },
    {
      "cell_type": "code",
      "source": [
        "batch_data = next(iter(train_loader))\n",
        "\n",
        "# Turn index into one hot vectors or just use jax.nn.onehot\n",
        "# a = np.array([1, 0, 3])\n",
        "# b = np.zeros((a.size, a.max() + 1))\n",
        "# b[np.arange(a.size), a] = 1"
      ],
      "metadata": {
        "id": "M-yF7HyOOdRX"
      },
      "execution_count": null,
      "outputs": []
    },
    {
      "cell_type": "code",
      "source": [
        "num_epochs = 10\n",
        "def loss_fn(params, imgs, labels):\n",
        "    predictions = batched_mlp_predict(params, imgs)\n",
        "    loss = optax.softmax_cross_entropy_with_integer_labels(predictions, labels)\n",
        "    loss = jnp.mean(loss)\n",
        "    return loss\n",
        "\n",
        "def update(params, imgs, labels):\n",
        "  lr = 0.01\n",
        "  loss = loss_fn(params, imgs, labels)\n",
        "  grad = jax.grad(loss_fn)(params, imgs, labels)\n",
        "  # print(grad)\n",
        "  params = jax.tree.map(lambda x, y: x - 0.01 * y, params, grad)\n",
        "  return loss, params\n",
        "\n",
        "for epoch in range(num_epochs):\n",
        "  for imgs, labels in train_loader:\n",
        "    loss, mlp_param = update(mlp_param, imgs, labels)\n",
        "    print(loss)"
      ],
      "metadata": {
        "id": "9yPkcmL8Sfk3"
      },
      "execution_count": null,
      "outputs": []
    },
    {
      "cell_type": "code",
      "source": [
        "batch_data = next(iter(train_loader))\n",
        "imgs, labels = batch_data\n",
        "\n",
        "for i in range(30):\n",
        "  img = imgs[i]\n",
        "  predict = jnp.argmax(mlp_predict(mlp_param, img))\n",
        "  print(labels[i], predict)\n",
        "  if labels[i] != predict:\n",
        "    img = img.reshape(28,28)\n",
        "    plt.imshow(img)\n",
        "    plt.show()\n"
      ],
      "metadata": {
        "colab": {
          "base_uri": "https://localhost:8080/",
          "height": 951
        },
        "id": "jsg5P6hZ47dp",
        "outputId": "a976c56b-3d15-4be4-8d42-2c1d2e91201a"
      },
      "execution_count": 123,
      "outputs": [
        {
          "output_type": "stream",
          "name": "stdout",
          "text": [
            "8 8\n",
            "6 6\n",
            "7 7\n",
            "0 0\n",
            "3 3\n",
            "2 2\n",
            "5 5\n",
            "9 9\n",
            "2 2\n",
            "7 7\n",
            "3 3\n",
            "8 8\n",
            "4 4\n",
            "3 9\n"
          ]
        },
        {
          "output_type": "display_data",
          "data": {
            "text/plain": [
              "<Figure size 640x480 with 1 Axes>"
            ],
            "image/png": "[encoded data removed]"
          },
          "metadata": {}
        },
        {
          "output_type": "stream",
          "name": "stdout",
          "text": [
            "8 8\n",
            "5 5\n",
            "7 7\n",
            "7 7\n",
            "5 5\n",
            "9 9\n",
            "7 7\n",
            "2 2\n",
            "8 8\n",
            "3 3\n",
            "1 1\n",
            "7 7\n",
            "6 6\n",
            "3 3\n",
            "6 6\n",
            "8 8\n"
          ]
        }
      ]
    }
  ]
}
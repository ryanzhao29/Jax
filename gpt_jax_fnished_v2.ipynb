{
  "nbformat": 4,
  "nbformat_minor": 0,
  "metadata": {
    "colab": {
      "provenance": [],
      "include_colab_link": true
    },
    "kernelspec": {
      "name": "python3",
      "display_name": "Python 3"
    },
    "language_info": {
      "name": "python"
    }
  },
  "cells": [
    {
      "cell_type": "markdown",
      "metadata": {
        "id": "view-in-github",
        "colab_type": "text"
      },
      "source": [
        "<a href=\"https://colab.research.google.com/github/ryanzhao29/Jax/blob/main/gpt_jax_fnished_v2.ipynb\" target=\"_parent\"><img src=\"https://colab.research.google.com/assets/colab-badge.svg\" alt=\"Open In Colab\"/></a>"
      ]
    },
    {
      "cell_type": "markdown",
      "source": [
        "## Building a GPT\n",
        "\n",
        "Companion notebook to the [Zero To Hero](https://karpathy.ai/zero-to-hero.html) video on GPT."
      ],
      "metadata": {
        "id": "wJpXpmjEYC_T"
      }
    },
    {
      "cell_type": "code",
      "execution_count": 8,
      "metadata": {
        "colab": {
          "base_uri": "https://localhost:8080/"
        },
        "id": "h5hjCcLDr2WC",
        "outputId": "b84c51d9-26d4-4671-f263-c2ac9923fcce"
      },
      "outputs": [
        {
          "output_type": "stream",
          "name": "stdout",
          "text": [
            "--2024-06-19 10:19:50--  https://raw.githubusercontent.com/karpathy/char-rnn/master/data/tinyshakespeare/input.txt\n",
            "Resolving raw.githubusercontent.com (raw.githubusercontent.com)... 185.199.110.133, 185.199.108.133, 185.199.111.133, ...\n",
            "Connecting to raw.githubusercontent.com (raw.githubusercontent.com)|185.199.110.133|:443... connected.\n",
            "HTTP request sent, awaiting response... 200 OK\n",
            "Length: 1115394 (1.1M) [text/plain]\n",
            "Saving to: ‘input.txt.7’\n",
            "\n",
            "input.txt.7         100%[===================>]   1.06M  --.-KB/s    in 0.08s   \n",
            "\n",
            "2024-06-19 10:19:51 (14.0 MB/s) - ‘input.txt.7’ saved [1115394/1115394]\n",
            "\n"
          ]
        }
      ],
      "source": [
        "# We always start with a dataset to train on. Let's download the tiny shakespeare dataset\n",
        "!wget https://raw.githubusercontent.com/karpathy/char-rnn/master/data/tinyshakespeare/input.txt"
      ]
    },
    {
      "cell_type": "code",
      "source": [
        "# read it in to inspect it\n",
        "with open('input.txt', 'r', encoding='utf-8') as f:\n",
        "    text = f.read()"
      ],
      "metadata": {
        "id": "O6medjfRsLD9"
      },
      "execution_count": 9,
      "outputs": []
    },
    {
      "cell_type": "code",
      "source": [
        "print(\"length of dataset in characters: \", len(text))"
      ],
      "metadata": {
        "colab": {
          "base_uri": "https://localhost:8080/"
        },
        "id": "6xWI_VyAsN8F",
        "outputId": "b59d2132-2b8f-41af-be79-603ce7667f3b"
      },
      "execution_count": 10,
      "outputs": [
        {
          "output_type": "stream",
          "name": "stdout",
          "text": [
            "length of dataset in characters:  1115394\n"
          ]
        }
      ]
    },
    {
      "cell_type": "code",
      "source": [
        "# let's look at the first 1000 characters\n",
        "# print(text[:1000])"
      ],
      "metadata": {
        "id": "2c5V0FvqseE0"
      },
      "execution_count": 11,
      "outputs": []
    },
    {
      "cell_type": "code",
      "source": [
        "# here are all the unique characters that occur in this text\n",
        "chars = sorted(list(set(text)))\n",
        "vocab_size = len(chars)\n",
        "print(''.join(chars))\n",
        "print(vocab_size)"
      ],
      "metadata": {
        "colab": {
          "base_uri": "https://localhost:8080/"
        },
        "id": "0e-Rbyr8sfM8",
        "outputId": "ebdde94b-d295-451b-f261-34099041675a"
      },
      "execution_count": 12,
      "outputs": [
        {
          "output_type": "stream",
          "name": "stdout",
          "text": [
            "\n",
            " !$&',-.3:;?ABCDEFGHIJKLMNOPQRSTUVWXYZabcdefghijklmnopqrstuvwxyz\n",
            "65\n"
          ]
        }
      ]
    },
    {
      "cell_type": "code",
      "source": [
        "# create a mapping from characters to integers\n",
        "stoi = { ch:i for i,ch in enumerate(chars) }\n",
        "itos = { i:ch for i,ch in enumerate(chars) }\n",
        "encode = lambda s: [stoi[c] for c in s] # encoder: take a string, output a list of integers\n",
        "decode = lambda l: ''.join([itos[i] for i in l]) # decoder: take a list of integers, output a string\n",
        "\n",
        "print(encode(\"hii there\"))\n",
        "print(decode(encode(\"hii there\")))"
      ],
      "metadata": {
        "colab": {
          "base_uri": "https://localhost:8080/"
        },
        "id": "Yw1LKNCgwjj1",
        "outputId": "22bc0f1c-90aa-4819-c192-920116849edf"
      },
      "execution_count": 13,
      "outputs": [
        {
          "output_type": "stream",
          "name": "stdout",
          "text": [
            "[46, 47, 47, 1, 58, 46, 43, 56, 43]\n",
            "hii there\n"
          ]
        }
      ]
    },
    {
      "cell_type": "code",
      "source": [
        "import jax\n",
        "from jax import vmap, jit\n",
        "import jax.numpy as jnp\n",
        "import flax.linen as nn\n",
        "import flax\n",
        "import optax\n",
        "import copy"
      ],
      "metadata": {
        "id": "S2Q36Gw-g3iO"
      },
      "execution_count": 115,
      "outputs": []
    },
    {
      "cell_type": "code",
      "source": [
        "# Let's now split up the data into train and validation sets\n",
        " # first 90% will be train, rest val\n",
        "\n",
        "data = jnp.array(encode(text), dtype=jnp.int32)\n",
        "n = int(0.9*len(data))\n",
        "train_data = data[:n]\n",
        "val_data = data[n:]"
      ],
      "metadata": {
        "id": "f_WIXqxz0lU5"
      },
      "execution_count": 15,
      "outputs": []
    },
    {
      "cell_type": "code",
      "source": [
        "block_size = 8\n",
        "train_data[:block_size+1]"
      ],
      "metadata": {
        "colab": {
          "base_uri": "https://localhost:8080/"
        },
        "id": "TD5Bj8Y6IAD4",
        "outputId": "3837f9ef-c970-4c9c-ebb9-cd7f2a73a65f"
      },
      "execution_count": 16,
      "outputs": [
        {
          "output_type": "execute_result",
          "data": {
            "text/plain": [
              "Array([18, 47, 56, 57, 58,  1, 15, 47, 58], dtype=int32)"
            ]
          },
          "metadata": {},
          "execution_count": 16
        }
      ]
    },
    {
      "cell_type": "code",
      "source": [
        "x = train_data[:block_size]\n",
        "y = train_data[1:block_size+1]\n",
        "for t in range(block_size):\n",
        "    context = x[:t+1]\n",
        "    target = y[t]\n",
        "    print(f\"when input is {context} the target: {target}\")"
      ],
      "metadata": {
        "colab": {
          "base_uri": "https://localhost:8080/"
        },
        "id": "9HXDe8vGJCEn",
        "outputId": "6791a01c-f3aa-4c8a-fb18-3a9bab987f40"
      },
      "execution_count": 17,
      "outputs": [
        {
          "output_type": "stream",
          "name": "stdout",
          "text": [
            "when input is [18] the target: 47\n",
            "when input is [18 47] the target: 56\n",
            "when input is [18 47 56] the target: 57\n",
            "when input is [18 47 56 57] the target: 58\n",
            "when input is [18 47 56 57 58] the target: 1\n",
            "when input is [18 47 56 57 58  1] the target: 15\n",
            "when input is [18 47 56 57 58  1 15] the target: 47\n",
            "when input is [18 47 56 57 58  1 15 47] the target: 58\n"
          ]
        }
      ]
    },
    {
      "cell_type": "code",
      "source": [
        "seed = 1\n",
        "batch_size = 64 # how many independent sequences will we process in parallel?\n",
        "block_size = 32 # what is the maximum context length for predictions?\n",
        "\n",
        "def get_batch(split, key):\n",
        "    # generate a small batch of data of inputs x and targets y\n",
        "    data = train_data if split == 'train' else val_data\n",
        "    ix = jax.random.randint(key, (batch_size,), 0, len(data) - block_size)\n",
        "    x = jnp.stack([data[i:i+block_size] for i in ix])\n",
        "    y = jnp.stack([data[i+1:i+block_size+1] for i in ix])\n",
        "    return x, y\n",
        "\n",
        "key = jax.random.PRNGKey(seed)\n",
        "key, subkey = jax.random.split(key)\n",
        "xb, yb = get_batch('train', subkey)\n",
        "print('inputs:')\n",
        "print(xb.shape)\n",
        "print(xb)\n",
        "print('targets:')\n",
        "print(yb.shape)\n",
        "print(yb)\n",
        "\n",
        "print('----')\n",
        "\n",
        "# for b in range(batch_size): # batch dimension\n",
        "#     for t in range(block_size): # time dimension\n",
        "#         context = xb[b, :t+1]\n",
        "#         target = yb[b,t]\n",
        "#         print(f\"when input is context the target: {context.tolist(), target.tolist()}\")\n"
      ],
      "metadata": {
        "colab": {
          "base_uri": "https://localhost:8080/"
        },
        "id": "Q3k1Czf7LuA9",
        "outputId": "a0e70153-b08d-4b18-ee0e-323d8cd07385"
      },
      "execution_count": 18,
      "outputs": [
        {
          "output_type": "stream",
          "name": "stdout",
          "text": [
            "inputs:\n",
            "(64, 32)\n",
            "[[46 63  1 ... 52 43  8]\n",
            " [57 46 39 ... 43  1 43]\n",
            " [56 52  5 ... 57 43 52]\n",
            " ...\n",
            " [ 1 51 63 ... 52 42  1]\n",
            " [60 43  1 ...  1 41 46]\n",
            " [53  1 58 ...  1 39 52]]\n",
            "targets:\n",
            "(64, 32)\n",
            "[[63  1 57 ... 43  8  0]\n",
            " [46 39 50 ...  1 43 39]\n",
            " [52  5 42 ... 43 52 42]\n",
            " ...\n",
            " [51 63  1 ... 42  1 42]\n",
            " [43  1 58 ... 41 46 53]\n",
            " [ 1 58 46 ... 39 52 42]]\n",
            "----\n"
          ]
        }
      ]
    },
    {
      "cell_type": "code",
      "source": [
        "print(xb) # our input to the transformer"
      ],
      "metadata": {
        "colab": {
          "base_uri": "https://localhost:8080/"
        },
        "id": "qpyyAeIzQjlO",
        "outputId": "298b10e5-4ec0-46ec-b24a-ac0a3fabaa53"
      },
      "execution_count": 19,
      "outputs": [
        {
          "output_type": "stream",
          "name": "stdout",
          "text": [
            "[[46 63  1 ... 52 43  8]\n",
            " [57 46 39 ... 43  1 43]\n",
            " [56 52  5 ... 57 43 52]\n",
            " ...\n",
            " [ 1 51 63 ... 52 42  1]\n",
            " [60 43  1 ...  1 41 46]\n",
            " [53  1 58 ...  1 39 52]]\n"
          ]
        }
      ]
    },
    {
      "cell_type": "markdown",
      "source": [
        "![Screenshot 2024-06-19 114342.jpg](data:image/jpeg;base64,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)\n",
        "\n",
        "There is a multiplier of 4 from 512 to 2048"
      ],
      "metadata": {
        "id": "wTW2BNqgz4Zs"
      }
    },
    {
      "cell_type": "code",
      "source": [
        "batch_size = 64 # how many independent sequences will we process in parallel?\n",
        "block_size = 256 # what is the maximum context length for predictions?\n",
        "max_iters = 5000\n",
        "learning_rate = 3e-4\n",
        "n_embd = 384\n",
        "n_head = 6\n",
        "n_layer = 6\n",
        "dropout = 0.2\n",
        "\n",
        "training = True\n",
        "\n",
        "class Head(nn.Module):\n",
        "  head_size: int\n",
        "  train: bool\n",
        "  dropout: float = 0.2\n",
        "  @nn.compact\n",
        "  def __call__(self, x):\n",
        "    k = nn.Dense(self.head_size, use_bias=False)(x) # B, H, C\n",
        "    q = nn.Dense(self.head_size,use_bias=False)(x)\n",
        "    v = nn.Dense(self.head_size, use_bias=False)(x)\n",
        "    wei = vmap(lambda x, y: jnp.matmul(x, y.transpose()), in_axes =(0,0))(q, k)  # B, H, H\n",
        "    wei = jnp.tril(wei) / jnp.sqrt(self.head_size)\n",
        "    mask = wei == 0\n",
        "    wei = jnp.where(mask, -jnp.inf, wei)\n",
        "    wei = jax.nn.softmax(wei)\n",
        "    wei = nn.Dropout(rate=self.dropout, deterministic =not self.train)(wei)\n",
        "    return vmap(lambda x, y: jnp.matmul(x, y), in_axes=(0,0))(wei, v) # B, H, C\n",
        "\n",
        "\n",
        "class MultiHeadAttention(nn.Module):\n",
        "  num_heads: int\n",
        "  head_size: int\n",
        "  embedding_size: int\n",
        "  train: bool\n",
        "  dropout: float = 0.2\n",
        "  @nn.compact\n",
        "  def __call__(self, x):\n",
        "    output = Head(self.head_size, self.train)(x)\n",
        "    for i in range(self.num_heads):\n",
        "      output = jnp.concatenate((output, Head(self.head_size, self.train)(x)),axis=-1)\n",
        "    # Change the shape for residual connection.\n",
        "    output = nn.Dense(self.embedding_size)(output)\n",
        "    output = nn.Dropout(rate=self.dropout, deterministic =not self.train)(output)\n",
        "    return output\n",
        "\n",
        "class FeedForward(nn.Module):\n",
        "  model_size: int\n",
        "  train: bool\n",
        "  dropout: float = 0.2\n",
        "  @nn.compact\n",
        "  def __call__(self, x):\n",
        "    # 4 is from the paper, see the image above.\n",
        "    x = nn.Dense(4 * self.model_size, use_bias=False)(x)\n",
        "    x = nn.relu(x)\n",
        "    # Change the shape for residual connection.\n",
        "    x = nn.Dense(self.model_size, use_bias=False)(x)\n",
        "    x = nn.Dropout(rate=self.dropout, deterministic =not self.train)(x)\n",
        "    return x\n",
        "\n",
        "class Block(nn.Module):\n",
        "  embedding_size: int\n",
        "  head_size: int\n",
        "  train: bool\n",
        "  @nn.compact\n",
        "  def __call__(self, x):\n",
        "    x = nn.LayerNorm(self.embedding_size)(x)\n",
        "    x = x + MultiHeadAttention(num_heads=self.head_size, head_size=self.embedding_size//self.head_size, embedding_size=self.embedding_size, train=self.train)(x)\n",
        "    x = nn.LayerNorm(self.embedding_size)(x)\n",
        "    x = x + FeedForward(self.embedding_size, self.train)(x)\n",
        "    return x\n",
        "\n",
        "class BigramLanguageModel(nn.Module):\n",
        "  embedding_size: int\n",
        "  vocab_size: int\n",
        "  block_size: int\n",
        "  head_size: int\n",
        "  layer_size: int\n",
        "  train: bool\n",
        "  @nn.compact\n",
        "  def __call__(self, x):\n",
        "    content_emb = nn.Embed(self.vocab_size,self.embedding_size)(x)\n",
        "    position_emb = nn.Embed(self.block_size, self.embedding_size)(jnp.arange(x.shape[1]))\n",
        "    output = content_emb + position_emb\n",
        "    for i in range(self.layer_size):\n",
        "      output = Block(self.embedding_size, self.head_size, self.train)(output)\n",
        "\n",
        "    output = nn.LayerNorm(self.embedding_size)(output)\n",
        "\n",
        "    logits = nn.Dense(self.vocab_size)(output)\n",
        "    return logits\n",
        "\n",
        "  def loss(self, params, x, y, dropout_key):\n",
        "    logits = self.apply(params, x, rngs={\"dropout\":dropout_key})\n",
        "    # print(y.shape)\n",
        "    # print(logits.shape)\n",
        "    y = y.reshape(-1)\n",
        "    B, T, C = logits.shape\n",
        "    logits_reshaped = logits.reshape(B*T, C)\n",
        "    loss = optax.softmax_cross_entropy_with_integer_labels(logits_reshaped, y)\n",
        "    loss = jnp.mean(loss)\n",
        "    return loss\n",
        "\n",
        "  def generate(self, params, idx, max_new_tokens, key):\n",
        "    # idx is b x t.\n",
        "    for _ in range(max_new_tokens):\n",
        "      key, subkey = jax.random.split(key)\n",
        "      idx_cond = jnp.expand_dims(idx[:, -self.block_size], axis=1)\n",
        "\n",
        "      logits = self.apply(params, idx_cond)\n",
        "      logits = logits[:,-1,:]\n",
        "      idx_next = jax.random.categorical(subkey, logits, axis=1)\n",
        "\n",
        "      idx_next = jnp.expand_dims(idx_next, axis=0)\n",
        "      idx = jnp.concatenate((idx, idx_next), axis=1)\n",
        "    return idx\n",
        "\n",
        "model = BigramLanguageModel(embedding_size = n_embd,  vocab_size = vocab_size,  block_size = block_size, head_size = n_head, layer_size=n_layer, train=True)\n",
        "key, subkey, init_key = jax.random.split(key, 3)\n",
        "params = model.init(init_key, xb)\n",
        "loss = model.loss(params, xb, yb, subkey)\n",
        "print(\"loss is\")\n",
        "print(loss)\n",
        "idx = jnp.ones((1, 1), dtype=jnp.int32)\n",
        "# print(decode(model.generate(params, idx, max_new_tokens=100, key=subkey)[0].tolist()))"
      ],
      "metadata": {
        "colab": {
          "base_uri": "https://localhost:8080/"
        },
        "id": "zxSAjXNUCFDW",
        "outputId": "0e7a84a7-b3d6-48e6-e5c9-022480b83292"
      },
      "execution_count": 140,
      "outputs": [
        {
          "output_type": "stream",
          "name": "stdout",
          "text": [
            "loss is\n",
            "4.1742897\n"
          ]
        }
      ]
    },
    {
      "cell_type": "code",
      "source": [
        "opt = optax.adam(learning_rate=1e-3)\n",
        "opt_state = opt.init(params)\n",
        "seed = 1\n",
        "key = jax.random.PRNGKey(seed)\n",
        "key, dropout_key = jax.random.split(key)\n",
        "\n",
        "for epoch in range(100):\n",
        "  key, sample_key,  = jax.random.split(key)\n",
        "  xb, yb = get_batch('train', sample_key)\n",
        "  dropout_key = jax.random.fold_in(dropout_key, epoch)\n",
        "  loss, grads = jax.value_and_grad(model.loss)(params, xb, yb, dropout_key)\n",
        "  updates, opt_state = opt.update(grads, opt_state)\n",
        "  params = optax.apply_updates(params, updates)\n",
        "  if epoch % 50 == 0:\n",
        "    print(f\"epoch {epoch}, loss {loss}\")"
      ],
      "metadata": {
        "id": "6LFy2nCHf_L1",
        "colab": {
          "base_uri": "https://localhost:8080/"
        },
        "outputId": "8c694997-be5d-4576-a25e-e49591d3a551"
      },
      "execution_count": 141,
      "outputs": [
        {
          "output_type": "stream",
          "name": "stdout",
          "text": [
            "epoch 0, loss 4.174302101135254\n",
            "epoch 50, loss 3.355424404144287\n"
          ]
        }
      ]
    },
    {
      "cell_type": "code",
      "source": [
        "print(decode(model.generate(params, idx, max_new_tokens=500, key=key)[0].tolist()))"
      ],
      "metadata": {
        "id": "EcVIDWAZEtjN"
      },
      "execution_count": null,
      "outputs": []
    },
    {
      "cell_type": "markdown",
      "source": [
        "## The mathematical trick in self-attention"
      ],
      "metadata": {
        "id": "XinV8nmAnmKN"
      }
    },
    {
      "cell_type": "code",
      "source": [
        "key, subkey = jax.split(key)\n",
        "B, T, C = 4, 8, 2\n",
        "x = jax.random.normal(subkey, (B, T, C))\n",
        "print(x.shape)"
      ],
      "metadata": {
        "colab": {
          "base_uri": "https://localhost:8080/",
          "height": 280
        },
        "id": "tOCjkrrAhucW",
        "outputId": "d9d181fd-f43c-486e-f4de-b31bfa7b7f22"
      },
      "execution_count": null,
      "outputs": [
        {
          "output_type": "error",
          "ename": "AttributeError",
          "evalue": "module 'jax' has no attribute 'split'",
          "traceback": [
            "\u001b[0;31m---------------------------------------------------------------------------\u001b[0m",
            "\u001b[0;31mAttributeError\u001b[0m                            Traceback (most recent call last)",
            "Cell \u001b[0;32mIn[16], line 1\u001b[0m\n\u001b[0;32m----> 1\u001b[0m key, subkey \u001b[38;5;241m=\u001b[39m \u001b[43mjax\u001b[49m\u001b[38;5;241;43m.\u001b[39;49m\u001b[43msplit\u001b[49m(key)\n\u001b[1;32m      2\u001b[0m B, T, C \u001b[38;5;241m=\u001b[39m \u001b[38;5;241m4\u001b[39m, \u001b[38;5;241m8\u001b[39m, \u001b[38;5;241m2\u001b[39m\n\u001b[1;32m      3\u001b[0m x \u001b[38;5;241m=\u001b[39m jax\u001b[38;5;241m.\u001b[39mrandom\u001b[38;5;241m.\u001b[39mnormal(subkey, (B, T, C))\n",
            "File \u001b[0;32m~/miniconda3/lib/python3.12/site-packages/jax/_src/deprecations.py:55\u001b[0m, in \u001b[0;36mdeprecation_getattr.<locals>.getattr\u001b[0;34m(name)\u001b[0m\n\u001b[1;32m     53\u001b[0m   warnings\u001b[38;5;241m.\u001b[39mwarn(message, \u001b[38;5;167;01mDeprecationWarning\u001b[39;00m, stacklevel\u001b[38;5;241m=\u001b[39m\u001b[38;5;241m2\u001b[39m)\n\u001b[1;32m     54\u001b[0m   \u001b[38;5;28;01mreturn\u001b[39;00m fn\n\u001b[0;32m---> 55\u001b[0m \u001b[38;5;28;01mraise\u001b[39;00m \u001b[38;5;167;01mAttributeError\u001b[39;00m(\u001b[38;5;124mf\u001b[39m\u001b[38;5;124m\"\u001b[39m\u001b[38;5;124mmodule \u001b[39m\u001b[38;5;132;01m{\u001b[39;00mmodule\u001b[38;5;132;01m!r}\u001b[39;00m\u001b[38;5;124m has no attribute \u001b[39m\u001b[38;5;132;01m{\u001b[39;00mname\u001b[38;5;132;01m!r}\u001b[39;00m\u001b[38;5;124m\"\u001b[39m)\n",
            "\u001b[0;31mAttributeError\u001b[0m: module 'jax' has no attribute 'split'"
          ]
        }
      ]
    }
  ]
}
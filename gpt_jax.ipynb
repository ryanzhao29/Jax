{
  "nbformat": 4,
  "nbformat_minor": 0,
  "metadata": {
    "colab": {
      "provenance": [],
      "include_colab_link": true
    },
    "kernelspec": {
      "name": "python3",
      "display_name": "Python 3"
    },
    "language_info": {
      "name": "python"
    }
  },
  "cells": [
    {
      "cell_type": "markdown",
      "metadata": {
        "id": "view-in-github",
        "colab_type": "text"
      },
      "source": [
        "<a href=\"https://colab.research.google.com/github/ryanzhao29/Jax/blob/main/gpt_jax.ipynb\" target=\"_parent\"><img src=\"https://colab.research.google.com/assets/colab-badge.svg\" alt=\"Open In Colab\"/></a>"
      ]
    },
    {
      "cell_type": "markdown",
      "source": [
        "## Building a GPT\n",
        "\n",
        "Companion notebook to the [Zero To Hero](https://karpathy.ai/zero-to-hero.html) video on GPT."
      ],
      "metadata": {
        "id": "wJpXpmjEYC_T"
      }
    },
    {
      "cell_type": "code",
      "execution_count": null,
      "metadata": {
        "colab": {
          "base_uri": "https://localhost:8080/"
        },
        "id": "h5hjCcLDr2WC",
        "outputId": "06d87509-f73a-4f41-bedb-ae754a3da5f9"
      },
      "outputs": [
        {
          "output_type": "stream",
          "name": "stdout",
          "text": [
            "--2024-06-18 15:47:03--  https://raw.githubusercontent.com/karpathy/char-rnn/master/data/tinyshakespeare/input.txt\r\n",
            "Resolving raw.githubusercontent.com (raw.githubusercontent.com)... 185.199.109.133, 185.199.110.133, 185.199.111.133, ...\r\n",
            "Connecting to raw.githubusercontent.com (raw.githubusercontent.com)|185.199.109.133|:443... connected.\n",
            "HTTP request sent, awaiting response... 200 OK\n",
            "Length: 1115394 (1.1M) [text/plain]\n",
            "Saving to: ‘input.txt.6’\n",
            "\n",
            "input.txt.6         100%[===================>]   1.06M  --.-KB/s    in 0.09s   \n",
            "\n",
            "2024-06-18 15:47:04 (11.9 MB/s) - ‘input.txt.6’ saved [1115394/1115394]\n",
            "\n"
          ]
        }
      ],
      "source": [
        "# We always start with a dataset to train on. Let's download the tiny shakespeare dataset\n",
        "!wget https://raw.githubusercontent.com/karpathy/char-rnn/master/data/tinyshakespeare/input.txt"
      ]
    },
    {
      "cell_type": "code",
      "source": [
        "# read it in to inspect it\n",
        "with open('input.txt', 'r', encoding='utf-8') as f:\n",
        "    text = f.read()"
      ],
      "metadata": {
        "id": "O6medjfRsLD9"
      },
      "execution_count": null,
      "outputs": []
    },
    {
      "cell_type": "code",
      "source": [
        "print(\"length of dataset in characters: \", len(text))"
      ],
      "metadata": {
        "colab": {
          "base_uri": "https://localhost:8080/"
        },
        "id": "6xWI_VyAsN8F",
        "outputId": "40634611-b7d3-4fee-e7b8-bf45e3207e3f"
      },
      "execution_count": null,
      "outputs": [
        {
          "output_type": "stream",
          "name": "stdout",
          "text": [
            "length of dataset in characters:  1115394\n"
          ]
        }
      ]
    },
    {
      "cell_type": "code",
      "source": [
        "# let's look at the first 1000 characters\n",
        "# print(text[:1000])"
      ],
      "metadata": {
        "id": "2c5V0FvqseE0"
      },
      "execution_count": null,
      "outputs": []
    },
    {
      "cell_type": "code",
      "source": [
        "# here are all the unique characters that occur in this text\n",
        "chars = sorted(list(set(text)))\n",
        "vocab_size = len(chars)\n",
        "print(''.join(chars))\n",
        "print(vocab_size)"
      ],
      "metadata": {
        "colab": {
          "base_uri": "https://localhost:8080/"
        },
        "id": "0e-Rbyr8sfM8",
        "outputId": "1ff49220-4690-49f1-811f-920a3640be84"
      },
      "execution_count": null,
      "outputs": [
        {
          "output_type": "stream",
          "name": "stdout",
          "text": [
            "\n",
            " !$&',-.3:;?ABCDEFGHIJKLMNOPQRSTUVWXYZabcdefghijklmnopqrstuvwxyz\n",
            "65\n"
          ]
        }
      ]
    },
    {
      "cell_type": "code",
      "source": [
        "# create a mapping from characters to integers\n",
        "stoi = { ch:i for i,ch in enumerate(chars) }\n",
        "itos = { i:ch for i,ch in enumerate(chars) }\n",
        "encode = lambda s: [stoi[c] for c in s] # encoder: take a string, output a list of integers\n",
        "decode = lambda l: ''.join([itos[i] for i in l]) # decoder: take a list of integers, output a string\n",
        "\n",
        "print(encode(\"hii there\"))\n",
        "print(decode(encode(\"hii there\")))"
      ],
      "metadata": {
        "colab": {
          "base_uri": "https://localhost:8080/"
        },
        "id": "Yw1LKNCgwjj1",
        "outputId": "de8f9631-ccbf-4c37-fe76-fc9cc4fdc9bc"
      },
      "execution_count": null,
      "outputs": [
        {
          "output_type": "stream",
          "name": "stdout",
          "text": [
            "[46, 47, 47, 1, 58, 46, 43, 56, 43]\n",
            "hii there\n"
          ]
        }
      ]
    },
    {
      "cell_type": "code",
      "source": [
        "import jax\n",
        "import jax.numpy as jnp\n",
        "import flax.linen as nn\n",
        "import flax\n",
        "import optax\n",
        "import copy"
      ],
      "metadata": {
        "id": "S2Q36Gw-g3iO"
      },
      "execution_count": null,
      "outputs": []
    },
    {
      "cell_type": "code",
      "source": [
        "# Let's now split up the data into train and validation sets\n",
        " # first 90% will be train, rest val\n",
        "\n",
        "data = jnp.array(encode(text), dtype=jnp.int32)\n",
        "n = int(0.9*len(data))\n",
        "train_data = data[:n]\n",
        "val_data = data[n:]"
      ],
      "metadata": {
        "id": "f_WIXqxz0lU5"
      },
      "execution_count": null,
      "outputs": []
    },
    {
      "cell_type": "code",
      "source": [
        "block_size = 8\n",
        "train_data[:block_size+1]"
      ],
      "metadata": {
        "colab": {
          "base_uri": "https://localhost:8080/"
        },
        "id": "TD5Bj8Y6IAD4",
        "outputId": "f73224d3-c35b-4d16-b4e9-c528648cea32"
      },
      "execution_count": null,
      "outputs": [
        {
          "output_type": "execute_result",
          "data": {
            "text/plain": [
              "Array([18, 47, 56, 57, 58,  1, 15, 47, 58], dtype=int32)"
            ]
          },
          "metadata": {},
          "execution_count": 9
        }
      ]
    },
    {
      "cell_type": "code",
      "source": [
        "x = train_data[:block_size]\n",
        "y = train_data[1:block_size+1]\n",
        "for t in range(block_size):\n",
        "    context = x[:t+1]\n",
        "    target = y[t]\n",
        "    print(f\"when input is {context} the target: {target}\")"
      ],
      "metadata": {
        "colab": {
          "base_uri": "https://localhost:8080/"
        },
        "id": "9HXDe8vGJCEn",
        "outputId": "9ccccdbb-7189-4c80-9092-f138a9b103a8"
      },
      "execution_count": null,
      "outputs": [
        {
          "output_type": "stream",
          "name": "stdout",
          "text": [
            "when input is [18] the target: 47\n",
            "when input is [18 47] the target: 56\n",
            "when input is [18 47 56] the target: 57\n",
            "when input is [18 47 56 57] the target: 58\n",
            "when input is [18 47 56 57 58] the target: 1\n",
            "when input is [18 47 56 57 58  1] the target: 15\n",
            "when input is [18 47 56 57 58  1 15] the target: 47\n",
            "when input is [18 47 56 57 58  1 15 47] the target: 58\n"
          ]
        }
      ]
    },
    {
      "cell_type": "code",
      "source": [
        "seed = 1\n",
        "batch_size = 64 # how many independent sequences will we process in parallel?\n",
        "block_size = 32 # what is the maximum context length for predictions?\n",
        "\n",
        "def get_batch(split, key):\n",
        "    # generate a small batch of data of inputs x and targets y\n",
        "    data = train_data if split == 'train' else val_data\n",
        "    ix = jax.random.randint(key, (batch_size,), 0, len(data) - block_size)\n",
        "    x = jnp.stack([data[i:i+block_size] for i in ix])\n",
        "    y = jnp.stack([data[i+1:i+block_size+1] for i in ix])\n",
        "    return x, y\n",
        "\n",
        "key = jax.random.PRNGKey(seed)\n",
        "key, subkey = jax.random.split(key)\n",
        "xb, yb = get_batch('train', subkey)\n",
        "print('inputs:')\n",
        "print(xb.shape)\n",
        "print(xb)\n",
        "print('targets:')\n",
        "print(yb.shape)\n",
        "print(yb)\n",
        "\n",
        "print('----')\n",
        "\n",
        "# for b in range(batch_size): # batch dimension\n",
        "#     for t in range(block_size): # time dimension\n",
        "#         context = xb[b, :t+1]\n",
        "#         target = yb[b,t]\n",
        "#         print(f\"when input is context the target: {context.tolist(), target.tolist()}\")\n"
      ],
      "metadata": {
        "colab": {
          "base_uri": "https://localhost:8080/"
        },
        "id": "Q3k1Czf7LuA9",
        "outputId": "b5dfbf42-a660-4eef-f1ad-b0ffcd9fbbab"
      },
      "execution_count": null,
      "outputs": [
        {
          "output_type": "stream",
          "name": "stdout",
          "text": [
            "inputs:\n",
            "(64, 32)\n",
            "[[46 63  1 ... 52 43  8]\n",
            " [57 46 39 ... 43  1 43]\n",
            " [56 52  5 ... 57 43 52]\n",
            " ...\n",
            " [ 1 51 63 ... 52 42  1]\n",
            " [60 43  1 ...  1 41 46]\n",
            " [53  1 58 ...  1 39 52]]\n",
            "targets:\n",
            "(64, 32)\n",
            "[[63  1 57 ... 43  8  0]\n",
            " [46 39 50 ...  1 43 39]\n",
            " [52  5 42 ... 43 52 42]\n",
            " ...\n",
            " [51 63  1 ... 42  1 42]\n",
            " [43  1 58 ... 41 46 53]\n",
            " [ 1 58 46 ... 39 52 42]]\n",
            "----\n"
          ]
        }
      ]
    },
    {
      "cell_type": "code",
      "source": [
        "print(xb) # our input to the transformer"
      ],
      "metadata": {
        "colab": {
          "base_uri": "https://localhost:8080/"
        },
        "id": "qpyyAeIzQjlO",
        "outputId": "0161d46f-5773-4bca-b259-ebbd29022a0a"
      },
      "execution_count": null,
      "outputs": [
        {
          "output_type": "stream",
          "name": "stdout",
          "text": [
            "[[46 63  1 ... 52 43  8]\n",
            " [57 46 39 ... 43  1 43]\n",
            " [56 52  5 ... 57 43 52]\n",
            " ...\n",
            " [ 1 51 63 ... 52 42  1]\n",
            " [60 43  1 ...  1 41 46]\n",
            " [53  1 58 ...  1 39 52]]\n"
          ]
        }
      ]
    },
    {
      "cell_type": "code",
      "source": [
        "class BigramLanguageModel(nn.Module):\n",
        "  embedding_size: int\n",
        "  @nn.compact\n",
        "  def __call__(self, x):\n",
        "    logits = nn.Embed(self.embedding_size,self.embedding_size)(x)\n",
        "    return logits\n",
        "\n",
        "  def loss(self, params, x, y):\n",
        "    logits = self.apply(params, x)\n",
        "    print(y.shape)\n",
        "    print(logits.shape)\n",
        "    y = y.reshape(-1)\n",
        "    B, T, C = logits.shape\n",
        "    logits_reshaped = logits.reshape(B*T, C)\n",
        "    loss = optax.softmax_cross_entropy_with_integer_labels(logits_reshaped, y)\n",
        "    loss = jnp.mean(loss)\n",
        "    return loss\n",
        "\n",
        "  def generate(self, params, idx, max_new_tokens, key):\n",
        "    # idx is b x t.\n",
        "    for _ in range(max_new_tokens):\n",
        "      key, subkey = jax.random.split(key)\n",
        "      logits = self.apply(params, idx)\n",
        "      logits = logits[:,-1,:]\n",
        "      idx_next = jax.random.categorical(subkey, logits, axis=1)\n",
        "      idx_next = jnp.expand_dims(idx_next, axis=0)\n",
        "      idx = jnp.concatenate((idx, idx_next), axis=1)\n",
        "    return idx\n",
        "\n",
        "model = BigramLanguageModel(65)\n",
        "\n",
        "print(model)\n",
        "key, subkey, init_key = jax.random.split(key, 3)\n",
        "params = model.init(init_key,xb)\n",
        "loss = model.loss(params, xb, yb)\n",
        "print(\"loss is\")\n",
        "print(loss)\n",
        "idx = jnp.ones((1, 1), dtype=jnp.int32)\n",
        "print(decode(model.generate(params, idx, max_new_tokens=100, key=subkey)[0].tolist()))"
      ],
      "metadata": {
        "colab": {
          "base_uri": "https://localhost:8080/"
        },
        "id": "zxSAjXNUCFDW",
        "outputId": "dec0fe5b-6896-4c6e-e596-46184d26fdc1"
      },
      "execution_count": null,
      "outputs": [
        {
          "output_type": "stream",
          "name": "stdout",
          "text": [
            "BigramLanguageModel(\n",
            "    # attributes\n",
            "    embedding_size = 65\n",
            ")\n",
            "(64, 32)\n",
            "(64, 32, 65)\n",
            "loss is\n",
            "4.191567\n",
            " Y\n",
            "rvDf$MHYq-TqlsDb$mKEmMiyr:jiXHaYYgmkvWGyRFHal hPizzTMfQIubc&DdplW3ZbVHlswolBaiQxXQZAowgnWeMHK;jbCH\n"
          ]
        }
      ]
    },
    {
      "cell_type": "code",
      "source": [
        "opt = optax.adam(learning_rate=1e-3)\n",
        "opt_state = opt.init(params)\n",
        "seed = 0\n",
        "key = jax.random.PRNGKey(seed)\n",
        "\n",
        "# for epoch in range(5000):\n",
        "#   key, key1 = jax.random.split(key)\n",
        "#   xb, yb = get_batch('train', key1)\n",
        "#   loss, grads = jax.value_and_grad(model.loss)(params, xb, yb)\n",
        "#   updates, opt_state = opt.update(grads, opt_state)\n",
        "#   # print(opt_state)\n",
        "#   params = optax.apply_updates(params, updates)\n",
        "\n",
        "#   # param_diff = jax.tree.map(lambda p,q: p-q, params, params1)\n",
        "#   # print(param_diff)\n",
        "#   # print(decode(model.generate(params, idx, max_new_tokens=10)[0].tolist()))\n",
        "#   if epoch % 10 == 0:\n",
        "#     print(f\"epoch {epoch}, loss {loss}\")"
      ],
      "metadata": {
        "id": "6LFy2nCHf_L1"
      },
      "execution_count": null,
      "outputs": []
    },
    {
      "cell_type": "code",
      "source": [
        "print(decode(model.generate(params, idx, max_new_tokens=500, key=key)[0].tolist()))"
      ],
      "metadata": {
        "colab": {
          "base_uri": "https://localhost:8080/"
        },
        "id": "EcVIDWAZEtjN",
        "outputId": "5d50d004-88eb-415f-a1a9-a53af5cccafb"
      },
      "execution_count": null,
      "outputs": [
        {
          "output_type": "stream",
          "name": "stdout",
          "text": [
            " br'qDW!cVenexdcDOJhoE.fqwwC'E.zBDoXvJoCFcTO;R!D  HOZFP\n",
            "VD.sZoP..tm!YGFkybeGt3Jn'u?-$x  SsQSrkHqXL,GyKq-pvCg:GWs:B$GmO$grOUFnBLaJHBobZBHq\n",
            "v-c\n",
            "iVQvgxD- :d:UCQuDrEgFRN?xFZTC\n",
            "RnfoCn;3fyu,biAn'W,r O3.iy?HKkl\n",
            "kkDFzZN'H;yySPN-zd:oWU'DBqu;es.ob-h!RfZQ:P,IA-TcokJajFQEh;OHvvngJ3uDUd\n",
            "3! Pp3iyDkTIYc;z UPk\n",
            "M$bQF!JWtoN\n",
            "qoWfGR!R;.voXhdMnrL'IXlD3KjpF&v!tD,g?ex?NQBND\n",
            "fgGMc,YJRNp3wkqWLCz\n",
            "XTjivBFE:Vfz!AHHEFrwLFb$HOWXx'ZKUmXhL.gF:BUPuFzp;sJtvnXspBKNiJL rStSjCYzjpk; o?:mVwzXYytAF-t\n",
            "cKhGUJdhki;-LGwvB,ChIHKN!Oz,gDwbj$\n"
          ]
        }
      ]
    },
    {
      "cell_type": "markdown",
      "source": [
        "## The mathematical trick in self-attention"
      ],
      "metadata": {
        "id": "XinV8nmAnmKN"
      }
    },
    {
      "cell_type": "code",
      "source": [
        "key, subkey = jax.split(key)\n",
        "B, T, C = 4, 8, 2\n",
        "x = jax.random.normal(subkey, (B, T, C))\n",
        "print(x.shape)"
      ],
      "metadata": {
        "colab": {
          "base_uri": "https://localhost:8080/",
          "height": 280
        },
        "id": "tOCjkrrAhucW",
        "outputId": "d9d181fd-f43c-486e-f4de-b31bfa7b7f22"
      },
      "execution_count": null,
      "outputs": [
        {
          "output_type": "error",
          "ename": "AttributeError",
          "evalue": "module 'jax' has no attribute 'split'",
          "traceback": [
            "\u001b[0;31m---------------------------------------------------------------------------\u001b[0m",
            "\u001b[0;31mAttributeError\u001b[0m                            Traceback (most recent call last)",
            "Cell \u001b[0;32mIn[16], line 1\u001b[0m\n\u001b[0;32m----> 1\u001b[0m key, subkey \u001b[38;5;241m=\u001b[39m \u001b[43mjax\u001b[49m\u001b[38;5;241;43m.\u001b[39;49m\u001b[43msplit\u001b[49m(key)\n\u001b[1;32m      2\u001b[0m B, T, C \u001b[38;5;241m=\u001b[39m \u001b[38;5;241m4\u001b[39m, \u001b[38;5;241m8\u001b[39m, \u001b[38;5;241m2\u001b[39m\n\u001b[1;32m      3\u001b[0m x \u001b[38;5;241m=\u001b[39m jax\u001b[38;5;241m.\u001b[39mrandom\u001b[38;5;241m.\u001b[39mnormal(subkey, (B, T, C))\n",
            "File \u001b[0;32m~/miniconda3/lib/python3.12/site-packages/jax/_src/deprecations.py:55\u001b[0m, in \u001b[0;36mdeprecation_getattr.<locals>.getattr\u001b[0;34m(name)\u001b[0m\n\u001b[1;32m     53\u001b[0m   warnings\u001b[38;5;241m.\u001b[39mwarn(message, \u001b[38;5;167;01mDeprecationWarning\u001b[39;00m, stacklevel\u001b[38;5;241m=\u001b[39m\u001b[38;5;241m2\u001b[39m)\n\u001b[1;32m     54\u001b[0m   \u001b[38;5;28;01mreturn\u001b[39;00m fn\n\u001b[0;32m---> 55\u001b[0m \u001b[38;5;28;01mraise\u001b[39;00m \u001b[38;5;167;01mAttributeError\u001b[39;00m(\u001b[38;5;124mf\u001b[39m\u001b[38;5;124m\"\u001b[39m\u001b[38;5;124mmodule \u001b[39m\u001b[38;5;132;01m{\u001b[39;00mmodule\u001b[38;5;132;01m!r}\u001b[39;00m\u001b[38;5;124m has no attribute \u001b[39m\u001b[38;5;132;01m{\u001b[39;00mname\u001b[38;5;132;01m!r}\u001b[39;00m\u001b[38;5;124m\"\u001b[39m)\n",
            "\u001b[0;31mAttributeError\u001b[0m: module 'jax' has no attribute 'split'"
          ]
        }
      ]
    }
  ]
}